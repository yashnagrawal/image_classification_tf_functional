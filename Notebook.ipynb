{
  "nbformat": 4,
  "nbformat_minor": 0,
  "metadata": {
    "colab": {
      "provenance": [],
      "authorship_tag": "ABX9TyMJgmUzPMvIMPBiOtnI1Tf9",
      "include_colab_link": true
    },
    "kernelspec": {
      "name": "python3",
      "display_name": "Python 3"
    },
    "language_info": {
      "name": "python"
    }
  },
  "cells": [
    {
      "cell_type": "markdown",
      "metadata": {
        "id": "view-in-github",
        "colab_type": "text"
      },
      "source": [
        "<a href=\"https://colab.research.google.com/github/yashnagrawal/image_classification_tf_functional/blob/main/Notebook.ipynb\" target=\"_parent\"><img src=\"https://colab.research.google.com/assets/colab-badge.svg\" alt=\"Open In Colab\"/></a>"
      ]
    },
    {
      "cell_type": "markdown",
      "source": [
        "# 1) Importing Packages"
      ],
      "metadata": {
        "id": "7aiSkgHOP15b"
      }
    },
    {
      "cell_type": "code",
      "source": [
        "import tensorflow as tf\n",
        "import h5py\n",
        "import numpy as np"
      ],
      "metadata": {
        "id": "Ox-DpKt_Zpak"
      },
      "execution_count": null,
      "outputs": []
    },
    {
      "cell_type": "markdown",
      "source": [
        "# 2) Load dataset"
      ],
      "metadata": {
        "id": "OwVw621eP8WZ"
      }
    },
    {
      "cell_type": "code",
      "source": [
        "def load_dataset():\n",
        "    train_dataset = h5py.File('datasets/train_signs.h5', \"r\")\n",
        "    train_set_x_orig = np.array(train_dataset[\"train_set_x\"][:]) # your train set features\n",
        "    train_set_y_orig = np.array(train_dataset[\"train_set_y\"][:]) # your train set labels\n",
        "\n",
        "    test_dataset = h5py.File('datasets/test_signs.h5', \"r\")\n",
        "    test_set_x_orig = np.array(test_dataset[\"test_set_x\"][:]) # your test set features\n",
        "    test_set_y_orig = np.array(test_dataset[\"test_set_y\"][:]) # your test set labels\n",
        "\n",
        "    classes = np.array(test_dataset[\"list_classes\"][:]) # the list of classes\n",
        "\n",
        "    train_set_y_orig = train_set_y_orig.reshape((1, train_set_y_orig.shape[0]))\n",
        "    test_set_y_orig = test_set_y_orig.reshape((1, test_set_y_orig.shape[0]))\n",
        "\n",
        "    return train_set_x_orig, train_set_y_orig, test_set_x_orig, test_set_y_orig, classes\n"
      ],
      "metadata": {
        "id": "v6KgnXnjQCl7"
      },
      "execution_count": null,
      "outputs": []
    },
    {
      "cell_type": "code",
      "source": [
        "X_train_orig, Y_train_orig, X_test_orig, Y_test_orig, classes = load_dataset()"
      ],
      "metadata": {
        "id": "CyOTHVcLZ0ks"
      },
      "execution_count": null,
      "outputs": []
    },
    {
      "cell_type": "markdown",
      "source": [
        "# 3) Preprocess input"
      ],
      "metadata": {
        "id": "bbwnZz5mQe6g"
      }
    },
    {
      "cell_type": "code",
      "source": [
        "def convert_to_one_hot(Y, C):\n",
        "  new_Y = np.eye(C)[Y.reshape(-1)]\n",
        "  return new_Y"
      ],
      "metadata": {
        "id": "nEnZX5bWchLW"
      },
      "execution_count": null,
      "outputs": []
    },
    {
      "cell_type": "code",
      "source": [
        "X_train = X_train_orig/255.0\n",
        "Y_train = convert_to_one_hot(Y_train_orig, len(classes))\n",
        "\n",
        "X_test = X_test_orig/255.0\n",
        "Y_test = convert_to_one_hot(Y_test_orig, len(classes))"
      ],
      "metadata": {
        "id": "HsRvGBZaZ8bE"
      },
      "execution_count": null,
      "outputs": []
    },
    {
      "cell_type": "code",
      "source": [
        "print(\"X train: \", X_train.shape)\n",
        "print(\"Y train: \", Y_train.shape)\n",
        "print(\"X test: \", X_test.shape)\n",
        "print(\"Y test: \", Y_test.shape)"
      ],
      "metadata": {
        "colab": {
          "base_uri": "https://localhost:8080/"
        },
        "id": "p2G-bXBucIss",
        "outputId": "0253fed6-c40b-4b02-f777-5d2fd7dfe362"
      },
      "execution_count": null,
      "outputs": [
        {
          "output_type": "stream",
          "name": "stdout",
          "text": [
            "X train:  (1080, 64, 64, 3)\n",
            "Y train:  (1080, 6)\n",
            "X test:  (120, 64, 64, 3)\n",
            "Y test:  (120, 6)\n"
          ]
        }
      ]
    },
    {
      "cell_type": "markdown",
      "source": [
        "# 4) Define model"
      ],
      "metadata": {
        "id": "PhJ0iDJLQpPp"
      }
    },
    {
      "cell_type": "code",
      "source": [
        "def conv_model():\n",
        "  \"\"\"\n",
        "  CONV2D(8 4 by 4 filters, stride 1, padding is \"SAME\") -> RELU -> MAXPOOL(8 by 8 filter size and an 8 by 8 stride, padding is \"SAME\") -> CONV2D(16 2 by 2 filters, stride 1, padding is \"SAME\") -> RELU -> MAXPOOL(4 by 4 filter size and a 4 by 4 stride, padding is \"SAME\") -> FLATTEN -> DENSE(6 neurons and a softmax activation)\n",
        "  Return:\n",
        "    model -- tensor model\n",
        "  \"\"\"\n",
        "  input_img = tf.keras.Input(shape = (64, 64, 3))\n",
        "  Z1 = tf.keras.layers.Conv2D(filters = 8, kernel_size = (4, 4), strides = 1, padding = 'SAME')(input_img)\n",
        "  A1 = tf.keras.layers.ReLU()(Z1)\n",
        "  P1 = tf.keras.layers.MaxPooling2D(pool_size = (8, 8), strides = (8, 8), padding = 'SAME')(A1)\n",
        "\n",
        "  Z2 = tf.keras.layers.Conv2D(filters = 16, kernel_size = (2, 2), strides = 1, padding = 'SAME')(P1)\n",
        "  A2 = tf.keras.layers.ReLU()(Z2)\n",
        "  P2 = tf.keras.layers.MaxPooling2D(pool_size = (4, 4), strides = (4, 4), padding = 'SAME')(A2)\n",
        "\n",
        "  F = tf.keras.layers.Flatten()(P2)\n",
        "  output = tf.keras.layers.Dense(units = 6, activation = 'softmax')(F)\n",
        "\n",
        "  model = tf.keras.Model(inputs = input_img, outputs = output)\n",
        "  return model"
      ],
      "metadata": {
        "id": "x7U5TtWebRnO"
      },
      "execution_count": null,
      "outputs": []
    },
    {
      "cell_type": "code",
      "source": [
        "sign_model = conv_model()"
      ],
      "metadata": {
        "id": "6uAZXoiih9ea"
      },
      "execution_count": null,
      "outputs": []
    },
    {
      "cell_type": "code",
      "source": [
        "sign_model.compile(\n",
        "    optimizer = 'adam',\n",
        "    loss = 'categorical_crossentropy',\n",
        "    metrics = ['accuracy']\n",
        ")"
      ],
      "metadata": {
        "id": "_QNTZI1MiCIN"
      },
      "execution_count": null,
      "outputs": []
    },
    {
      "cell_type": "code",
      "source": [
        "sign_model.summary()"
      ],
      "metadata": {
        "colab": {
          "base_uri": "https://localhost:8080/"
        },
        "id": "-KDV9ZFflYmj",
        "outputId": "da119517-42b5-4a1b-d86d-ecb6c3c23655"
      },
      "execution_count": null,
      "outputs": [
        {
          "output_type": "stream",
          "name": "stdout",
          "text": [
            "Model: \"model\"\n",
            "_________________________________________________________________\n",
            " Layer (type)                Output Shape              Param #   \n",
            "=================================================================\n",
            " input_1 (InputLayer)        [(None, 64, 64, 3)]       0         \n",
            "                                                                 \n",
            " conv2d (Conv2D)             (None, 64, 64, 8)         392       \n",
            "                                                                 \n",
            " re_lu (ReLU)                (None, 64, 64, 8)         0         \n",
            "                                                                 \n",
            " max_pooling2d (MaxPooling2  (None, 8, 8, 8)           0         \n",
            " D)                                                              \n",
            "                                                                 \n",
            " conv2d_1 (Conv2D)           (None, 8, 8, 16)          528       \n",
            "                                                                 \n",
            " re_lu_1 (ReLU)              (None, 8, 8, 16)          0         \n",
            "                                                                 \n",
            " max_pooling2d_1 (MaxPoolin  (None, 2, 2, 16)          0         \n",
            " g2D)                                                            \n",
            "                                                                 \n",
            " flatten (Flatten)           (None, 64)                0         \n",
            "                                                                 \n",
            " dense (Dense)               (None, 6)                 390       \n",
            "                                                                 \n",
            "=================================================================\n",
            "Total params: 1310 (5.12 KB)\n",
            "Trainable params: 1310 (5.12 KB)\n",
            "Non-trainable params: 0 (0.00 Byte)\n",
            "_________________________________________________________________\n"
          ]
        }
      ]
    },
    {
      "cell_type": "markdown",
      "source": [
        "# 5) Training the model"
      ],
      "metadata": {
        "id": "IWQ-Q8_0Q3f5"
      }
    },
    {
      "cell_type": "code",
      "source": [
        "sign_model.fit(x = X_train, y = Y_train, epochs = 100, validation_data = (X_test, Y_test), batch_size = 64)"
      ],
      "metadata": {
        "colab": {
          "base_uri": "https://localhost:8080/"
        },
        "id": "M4JVxiFPlauD",
        "outputId": "dacd4806-5a3c-4318-b1b3-ea5d9281166d"
      },
      "execution_count": 22,
      "outputs": [
        {
          "output_type": "stream",
          "name": "stdout",
          "text": [
            "Epoch 1/100\n",
            "17/17 [==============================] - 2s 94ms/step - loss: 0.5026 - accuracy: 0.8500 - val_loss: 0.6245 - val_accuracy: 0.7417\n",
            "Epoch 2/100\n",
            "17/17 [==============================] - 2s 99ms/step - loss: 0.5069 - accuracy: 0.8417 - val_loss: 0.5928 - val_accuracy: 0.7500\n",
            "Epoch 3/100\n",
            "17/17 [==============================] - 2s 91ms/step - loss: 0.5127 - accuracy: 0.8324 - val_loss: 0.5789 - val_accuracy: 0.7750\n",
            "Epoch 4/100\n",
            "17/17 [==============================] - 2s 90ms/step - loss: 0.5057 - accuracy: 0.8306 - val_loss: 0.5747 - val_accuracy: 0.7583\n",
            "Epoch 5/100\n",
            "17/17 [==============================] - 3s 190ms/step - loss: 0.4889 - accuracy: 0.8463 - val_loss: 0.5871 - val_accuracy: 0.7750\n",
            "Epoch 6/100\n",
            "17/17 [==============================] - 4s 212ms/step - loss: 0.5044 - accuracy: 0.8398 - val_loss: 0.5829 - val_accuracy: 0.7750\n",
            "Epoch 7/100\n",
            "17/17 [==============================] - 2s 139ms/step - loss: 0.5032 - accuracy: 0.8343 - val_loss: 0.5844 - val_accuracy: 0.7667\n",
            "Epoch 8/100\n",
            "17/17 [==============================] - 2s 89ms/step - loss: 0.4949 - accuracy: 0.8361 - val_loss: 0.5843 - val_accuracy: 0.7583\n",
            "Epoch 9/100\n",
            "17/17 [==============================] - 2s 89ms/step - loss: 0.4895 - accuracy: 0.8380 - val_loss: 0.5804 - val_accuracy: 0.7583\n",
            "Epoch 10/100\n",
            "17/17 [==============================] - 2s 89ms/step - loss: 0.4776 - accuracy: 0.8435 - val_loss: 0.5564 - val_accuracy: 0.7750\n",
            "Epoch 11/100\n",
            "17/17 [==============================] - 2s 89ms/step - loss: 0.4659 - accuracy: 0.8583 - val_loss: 0.5580 - val_accuracy: 0.7750\n",
            "Epoch 12/100\n",
            "17/17 [==============================] - 2s 119ms/step - loss: 0.4679 - accuracy: 0.8509 - val_loss: 0.5420 - val_accuracy: 0.7917\n",
            "Epoch 13/100\n",
            "17/17 [==============================] - 2s 129ms/step - loss: 0.4543 - accuracy: 0.8583 - val_loss: 0.5466 - val_accuracy: 0.7750\n",
            "Epoch 14/100\n",
            "17/17 [==============================] - 2s 89ms/step - loss: 0.4506 - accuracy: 0.8602 - val_loss: 0.5565 - val_accuracy: 0.7750\n",
            "Epoch 15/100\n",
            "17/17 [==============================] - 2s 89ms/step - loss: 0.4632 - accuracy: 0.8556 - val_loss: 0.5524 - val_accuracy: 0.7917\n",
            "Epoch 16/100\n",
            "17/17 [==============================] - 2s 90ms/step - loss: 0.4578 - accuracy: 0.8583 - val_loss: 0.5441 - val_accuracy: 0.7667\n",
            "Epoch 17/100\n",
            "17/17 [==============================] - 1s 88ms/step - loss: 0.4647 - accuracy: 0.8500 - val_loss: 0.5620 - val_accuracy: 0.7917\n",
            "Epoch 18/100\n",
            "17/17 [==============================] - 2s 94ms/step - loss: 0.4452 - accuracy: 0.8648 - val_loss: 0.5501 - val_accuracy: 0.7583\n",
            "Epoch 19/100\n",
            "17/17 [==============================] - 2s 90ms/step - loss: 0.4403 - accuracy: 0.8741 - val_loss: 0.5331 - val_accuracy: 0.7750\n",
            "Epoch 20/100\n",
            "17/17 [==============================] - 2s 136ms/step - loss: 0.4371 - accuracy: 0.8722 - val_loss: 0.5209 - val_accuracy: 0.7917\n",
            "Epoch 21/100\n",
            "17/17 [==============================] - 2s 111ms/step - loss: 0.4330 - accuracy: 0.8667 - val_loss: 0.5131 - val_accuracy: 0.8000\n",
            "Epoch 22/100\n",
            "17/17 [==============================] - 2s 91ms/step - loss: 0.4302 - accuracy: 0.8778 - val_loss: 0.5282 - val_accuracy: 0.7667\n",
            "Epoch 23/100\n",
            "17/17 [==============================] - 2s 90ms/step - loss: 0.4392 - accuracy: 0.8630 - val_loss: 0.5173 - val_accuracy: 0.8000\n",
            "Epoch 24/100\n",
            "17/17 [==============================] - 2s 91ms/step - loss: 0.4221 - accuracy: 0.8639 - val_loss: 0.5086 - val_accuracy: 0.8000\n",
            "Epoch 25/100\n",
            "17/17 [==============================] - 1s 89ms/step - loss: 0.4308 - accuracy: 0.8731 - val_loss: 0.5442 - val_accuracy: 0.8000\n",
            "Epoch 26/100\n",
            "17/17 [==============================] - 2s 89ms/step - loss: 0.4329 - accuracy: 0.8620 - val_loss: 0.5886 - val_accuracy: 0.7583\n",
            "Epoch 27/100\n",
            "17/17 [==============================] - 2s 93ms/step - loss: 0.4285 - accuracy: 0.8722 - val_loss: 0.4990 - val_accuracy: 0.8000\n",
            "Epoch 28/100\n",
            "17/17 [==============================] - 3s 151ms/step - loss: 0.4212 - accuracy: 0.8676 - val_loss: 0.5341 - val_accuracy: 0.7917\n",
            "Epoch 29/100\n",
            "17/17 [==============================] - 2s 93ms/step - loss: 0.4385 - accuracy: 0.8565 - val_loss: 0.5488 - val_accuracy: 0.7750\n",
            "Epoch 30/100\n",
            "17/17 [==============================] - 2s 95ms/step - loss: 0.4270 - accuracy: 0.8667 - val_loss: 0.5103 - val_accuracy: 0.7917\n",
            "Epoch 31/100\n",
            "17/17 [==============================] - 2s 90ms/step - loss: 0.4272 - accuracy: 0.8685 - val_loss: 0.5524 - val_accuracy: 0.8000\n",
            "Epoch 32/100\n",
            "17/17 [==============================] - 2s 90ms/step - loss: 0.4238 - accuracy: 0.8593 - val_loss: 0.5007 - val_accuracy: 0.7583\n",
            "Epoch 33/100\n",
            "17/17 [==============================] - 2s 90ms/step - loss: 0.4397 - accuracy: 0.8565 - val_loss: 0.5189 - val_accuracy: 0.7667\n",
            "Epoch 34/100\n",
            "17/17 [==============================] - 2s 90ms/step - loss: 0.4217 - accuracy: 0.8713 - val_loss: 0.5674 - val_accuracy: 0.7750\n",
            "Epoch 35/100\n",
            "17/17 [==============================] - 2s 113ms/step - loss: 0.4254 - accuracy: 0.8611 - val_loss: 0.5151 - val_accuracy: 0.7750\n",
            "Epoch 36/100\n",
            "17/17 [==============================] - 2s 137ms/step - loss: 0.4006 - accuracy: 0.8833 - val_loss: 0.5068 - val_accuracy: 0.8083\n",
            "Epoch 37/100\n",
            "17/17 [==============================] - 2s 89ms/step - loss: 0.4001 - accuracy: 0.8741 - val_loss: 0.4857 - val_accuracy: 0.8417\n",
            "Epoch 38/100\n",
            "17/17 [==============================] - 2s 90ms/step - loss: 0.3981 - accuracy: 0.8759 - val_loss: 0.4978 - val_accuracy: 0.7833\n",
            "Epoch 39/100\n",
            "17/17 [==============================] - 2s 89ms/step - loss: 0.4040 - accuracy: 0.8731 - val_loss: 0.4734 - val_accuracy: 0.8083\n",
            "Epoch 40/100\n",
            "17/17 [==============================] - 2s 90ms/step - loss: 0.3907 - accuracy: 0.8880 - val_loss: 0.4648 - val_accuracy: 0.8333\n",
            "Epoch 41/100\n",
            "17/17 [==============================] - 2s 91ms/step - loss: 0.3882 - accuracy: 0.8833 - val_loss: 0.4840 - val_accuracy: 0.7667\n",
            "Epoch 42/100\n",
            "17/17 [==============================] - 2s 95ms/step - loss: 0.4019 - accuracy: 0.8648 - val_loss: 0.4806 - val_accuracy: 0.8083\n",
            "Epoch 43/100\n",
            "17/17 [==============================] - 2s 137ms/step - loss: 0.3867 - accuracy: 0.8787 - val_loss: 0.5030 - val_accuracy: 0.7917\n",
            "Epoch 44/100\n",
            "17/17 [==============================] - 2s 113ms/step - loss: 0.3924 - accuracy: 0.8796 - val_loss: 0.4669 - val_accuracy: 0.8333\n",
            "Epoch 45/100\n",
            "17/17 [==============================] - 2s 89ms/step - loss: 0.3786 - accuracy: 0.8861 - val_loss: 0.4635 - val_accuracy: 0.7833\n",
            "Epoch 46/100\n",
            "17/17 [==============================] - 2s 90ms/step - loss: 0.3762 - accuracy: 0.8824 - val_loss: 0.4712 - val_accuracy: 0.8333\n",
            "Epoch 47/100\n",
            "17/17 [==============================] - 2s 89ms/step - loss: 0.3825 - accuracy: 0.8759 - val_loss: 0.4770 - val_accuracy: 0.7833\n",
            "Epoch 48/100\n",
            "17/17 [==============================] - 2s 90ms/step - loss: 0.3706 - accuracy: 0.8898 - val_loss: 0.4718 - val_accuracy: 0.8000\n",
            "Epoch 49/100\n",
            "17/17 [==============================] - 2s 89ms/step - loss: 0.3845 - accuracy: 0.8731 - val_loss: 0.4602 - val_accuracy: 0.8333\n",
            "Epoch 50/100\n",
            "17/17 [==============================] - 2s 93ms/step - loss: 0.3752 - accuracy: 0.8870 - val_loss: 0.4605 - val_accuracy: 0.8250\n",
            "Epoch 51/100\n",
            "17/17 [==============================] - 2s 148ms/step - loss: 0.3613 - accuracy: 0.8935 - val_loss: 0.4532 - val_accuracy: 0.8000\n",
            "Epoch 52/100\n",
            "17/17 [==============================] - 2s 98ms/step - loss: 0.3634 - accuracy: 0.8935 - val_loss: 0.4495 - val_accuracy: 0.8000\n",
            "Epoch 53/100\n",
            "17/17 [==============================] - 1s 88ms/step - loss: 0.3632 - accuracy: 0.8880 - val_loss: 0.4984 - val_accuracy: 0.8417\n",
            "Epoch 54/100\n",
            "17/17 [==============================] - 2s 90ms/step - loss: 0.3637 - accuracy: 0.8861 - val_loss: 0.4434 - val_accuracy: 0.8167\n",
            "Epoch 55/100\n",
            "17/17 [==============================] - 2s 95ms/step - loss: 0.3714 - accuracy: 0.8824 - val_loss: 0.4566 - val_accuracy: 0.8167\n",
            "Epoch 56/100\n",
            "17/17 [==============================] - 2s 102ms/step - loss: 0.3538 - accuracy: 0.8898 - val_loss: 0.4776 - val_accuracy: 0.7917\n",
            "Epoch 57/100\n",
            "17/17 [==============================] - 2s 89ms/step - loss: 0.3656 - accuracy: 0.8852 - val_loss: 0.4575 - val_accuracy: 0.8083\n",
            "Epoch 58/100\n",
            "17/17 [==============================] - 2s 116ms/step - loss: 0.3512 - accuracy: 0.8944 - val_loss: 0.4449 - val_accuracy: 0.8083\n",
            "Epoch 59/100\n",
            "17/17 [==============================] - 2s 136ms/step - loss: 0.3438 - accuracy: 0.8972 - val_loss: 0.4418 - val_accuracy: 0.8250\n",
            "Epoch 60/100\n",
            "17/17 [==============================] - 2s 91ms/step - loss: 0.3428 - accuracy: 0.9019 - val_loss: 0.4311 - val_accuracy: 0.8417\n",
            "Epoch 61/100\n",
            "17/17 [==============================] - 2s 94ms/step - loss: 0.3439 - accuracy: 0.8981 - val_loss: 0.4331 - val_accuracy: 0.8417\n",
            "Epoch 62/100\n",
            "17/17 [==============================] - 2s 90ms/step - loss: 0.3564 - accuracy: 0.8796 - val_loss: 0.4845 - val_accuracy: 0.8167\n",
            "Epoch 63/100\n",
            "17/17 [==============================] - 2s 89ms/step - loss: 0.3394 - accuracy: 0.9000 - val_loss: 0.4299 - val_accuracy: 0.8417\n",
            "Epoch 64/100\n",
            "17/17 [==============================] - 2s 95ms/step - loss: 0.3380 - accuracy: 0.9019 - val_loss: 0.4463 - val_accuracy: 0.8333\n",
            "Epoch 65/100\n",
            "17/17 [==============================] - 2s 89ms/step - loss: 0.3277 - accuracy: 0.9065 - val_loss: 0.4157 - val_accuracy: 0.8417\n",
            "Epoch 66/100\n",
            "17/17 [==============================] - 2s 139ms/step - loss: 0.3276 - accuracy: 0.9065 - val_loss: 0.4212 - val_accuracy: 0.8333\n",
            "Epoch 67/100\n",
            "17/17 [==============================] - 2s 110ms/step - loss: 0.3362 - accuracy: 0.9000 - val_loss: 0.4212 - val_accuracy: 0.8083\n",
            "Epoch 68/100\n",
            "17/17 [==============================] - 2s 90ms/step - loss: 0.3272 - accuracy: 0.9046 - val_loss: 0.4305 - val_accuracy: 0.8417\n",
            "Epoch 69/100\n",
            "17/17 [==============================] - 2s 90ms/step - loss: 0.3298 - accuracy: 0.8963 - val_loss: 0.4148 - val_accuracy: 0.7917\n",
            "Epoch 70/100\n",
            "17/17 [==============================] - 2s 90ms/step - loss: 0.3229 - accuracy: 0.9083 - val_loss: 0.4272 - val_accuracy: 0.8333\n",
            "Epoch 71/100\n",
            "17/17 [==============================] - 2s 90ms/step - loss: 0.3368 - accuracy: 0.8935 - val_loss: 0.4370 - val_accuracy: 0.8417\n",
            "Epoch 72/100\n",
            "17/17 [==============================] - 2s 91ms/step - loss: 0.3319 - accuracy: 0.8991 - val_loss: 0.4307 - val_accuracy: 0.8500\n",
            "Epoch 73/100\n",
            "17/17 [==============================] - 2s 91ms/step - loss: 0.3271 - accuracy: 0.9019 - val_loss: 0.4071 - val_accuracy: 0.8500\n",
            "Epoch 74/100\n",
            "17/17 [==============================] - 2s 148ms/step - loss: 0.3267 - accuracy: 0.9056 - val_loss: 0.4199 - val_accuracy: 0.8667\n",
            "Epoch 75/100\n",
            "17/17 [==============================] - 2s 99ms/step - loss: 0.3123 - accuracy: 0.9148 - val_loss: 0.4119 - val_accuracy: 0.8583\n",
            "Epoch 76/100\n",
            "17/17 [==============================] - 2s 97ms/step - loss: 0.3168 - accuracy: 0.9093 - val_loss: 0.4186 - val_accuracy: 0.8583\n",
            "Epoch 77/100\n",
            "17/17 [==============================] - 2s 89ms/step - loss: 0.3172 - accuracy: 0.9056 - val_loss: 0.4150 - val_accuracy: 0.8333\n",
            "Epoch 78/100\n",
            "17/17 [==============================] - 2s 90ms/step - loss: 0.3175 - accuracy: 0.9037 - val_loss: 0.3987 - val_accuracy: 0.8417\n",
            "Epoch 79/100\n",
            "17/17 [==============================] - 2s 90ms/step - loss: 0.3142 - accuracy: 0.9019 - val_loss: 0.4008 - val_accuracy: 0.8167\n",
            "Epoch 80/100\n",
            "17/17 [==============================] - 2s 90ms/step - loss: 0.3116 - accuracy: 0.9065 - val_loss: 0.4248 - val_accuracy: 0.8417\n",
            "Epoch 81/100\n",
            "17/17 [==============================] - 2s 109ms/step - loss: 0.3386 - accuracy: 0.8889 - val_loss: 0.4504 - val_accuracy: 0.8333\n",
            "Epoch 82/100\n",
            "17/17 [==============================] - 2s 140ms/step - loss: 0.3219 - accuracy: 0.9074 - val_loss: 0.3847 - val_accuracy: 0.8333\n",
            "Epoch 83/100\n",
            "17/17 [==============================] - 2s 90ms/step - loss: 0.3202 - accuracy: 0.9019 - val_loss: 0.4077 - val_accuracy: 0.8167\n",
            "Epoch 84/100\n",
            "17/17 [==============================] - 2s 91ms/step - loss: 0.3020 - accuracy: 0.9065 - val_loss: 0.4111 - val_accuracy: 0.8500\n",
            "Epoch 85/100\n",
            "17/17 [==============================] - 2s 94ms/step - loss: 0.3089 - accuracy: 0.8972 - val_loss: 0.4101 - val_accuracy: 0.8083\n",
            "Epoch 86/100\n",
            "17/17 [==============================] - 2s 90ms/step - loss: 0.3128 - accuracy: 0.8944 - val_loss: 0.4011 - val_accuracy: 0.8500\n",
            "Epoch 87/100\n",
            "17/17 [==============================] - 2s 89ms/step - loss: 0.3122 - accuracy: 0.9000 - val_loss: 0.3984 - val_accuracy: 0.8417\n",
            "Epoch 88/100\n",
            "17/17 [==============================] - 2s 91ms/step - loss: 0.3112 - accuracy: 0.9046 - val_loss: 0.4300 - val_accuracy: 0.8500\n",
            "Epoch 89/100\n",
            "17/17 [==============================] - 2s 127ms/step - loss: 0.3077 - accuracy: 0.9093 - val_loss: 0.4008 - val_accuracy: 0.8583\n",
            "Epoch 90/100\n",
            "17/17 [==============================] - 2s 123ms/step - loss: 0.2954 - accuracy: 0.9148 - val_loss: 0.3780 - val_accuracy: 0.8417\n",
            "Epoch 91/100\n",
            "17/17 [==============================] - 2s 89ms/step - loss: 0.2871 - accuracy: 0.9139 - val_loss: 0.3813 - val_accuracy: 0.8750\n",
            "Epoch 92/100\n",
            "17/17 [==============================] - 2s 90ms/step - loss: 0.2872 - accuracy: 0.9111 - val_loss: 0.3954 - val_accuracy: 0.8417\n",
            "Epoch 93/100\n",
            "17/17 [==============================] - 2s 90ms/step - loss: 0.2940 - accuracy: 0.9093 - val_loss: 0.3796 - val_accuracy: 0.8667\n",
            "Epoch 94/100\n",
            "17/17 [==============================] - 2s 96ms/step - loss: 0.2958 - accuracy: 0.9074 - val_loss: 0.3699 - val_accuracy: 0.8583\n",
            "Epoch 95/100\n",
            "17/17 [==============================] - 2s 90ms/step - loss: 0.2877 - accuracy: 0.9148 - val_loss: 0.3634 - val_accuracy: 0.8583\n",
            "Epoch 96/100\n",
            "17/17 [==============================] - 2s 111ms/step - loss: 0.2898 - accuracy: 0.9204 - val_loss: 0.3856 - val_accuracy: 0.8583\n",
            "Epoch 97/100\n",
            "17/17 [==============================] - 3s 167ms/step - loss: 0.2957 - accuracy: 0.9093 - val_loss: 0.3607 - val_accuracy: 0.8500\n",
            "Epoch 98/100\n",
            "17/17 [==============================] - 2s 138ms/step - loss: 0.2780 - accuracy: 0.9176 - val_loss: 0.3638 - val_accuracy: 0.8750\n",
            "Epoch 99/100\n",
            "17/17 [==============================] - 2s 90ms/step - loss: 0.2770 - accuracy: 0.9194 - val_loss: 0.3585 - val_accuracy: 0.8583\n",
            "Epoch 100/100\n",
            "17/17 [==============================] - 2s 90ms/step - loss: 0.2702 - accuracy: 0.9250 - val_loss: 0.3738 - val_accuracy: 0.8500\n"
          ]
        },
        {
          "output_type": "execute_result",
          "data": {
            "text/plain": [
              "<keras.src.callbacks.History at 0x7a8064702530>"
            ]
          },
          "metadata": {},
          "execution_count": 22
        }
      ]
    }
  ]
}